{
 "cells": [
  {
   "cell_type": "code",
   "execution_count": 4,
   "metadata": {},
   "outputs": [],
   "source": [
    "from selenium import webdriver\n",
    "import time\n",
    "import urllib\n",
    "import os\n",
    "# 存圖位置\n",
    "local_path = 'C:\\img\\musk'\n",
    "# 爬取頁面網址 \n",
    "url = 'https://pic.sogou.com/pics?query=%E9%A6%AC%E6%96%AF%E5%85%8B'  \n",
    "  \n",
    "# 目標元素的xpath\n",
    "xpath = '//div[@id=\"imgid\"]/ul/li/a/img'\n",
    "# 啟動chrome瀏覽器\n",
    "driver=webdriver.Chrome('C:\\chromedriver\\chromedriver.exe') # chromedriver檔案放的位置\n",
    "  \n",
    "# 最大化窗口，因為每一次爬取只能看到視窗内的圖片  \n",
    "driver.maximize_window()  \n",
    "  \n",
    "# 紀錄下載過的圖片網址，避免重複下載  \n",
    "img_url_dic = {}  \n",
    "  \n",
    "# 瀏覽器打開爬取頁面\n",
    "driver.get(url)  \n",
    "  \n",
    "# 模擬滾動視窗瀏覽更多圖片\n",
    "pos = 0  \n",
    "m = 0 # 圖片編號 \n",
    "for i in range(100):  \n",
    "    pos += i*500 # 每次下滾500  \n",
    "    js = \"document.documentElement.scrollTop=%d\" % pos  \n",
    "    driver.execute_script(js)  \n",
    "    time.sleep(1)\n",
    "    \n",
    "    for element in driver.find_elements_by_css_selector(\"div.img-layout img\"):\n",
    "        try:\n",
    "            img_url = element.get_attribute('src')\n",
    "            \n",
    "            # 保存圖片到指定路徑\n",
    "            if img_url != None and not img_url in img_url_dic:\n",
    "                img_url_dic[img_url] = ''  \n",
    "                m += 1\n",
    "                print(img_url)\n",
    "                ext = img_url.split('/')[-1]\n",
    "                print(ext)\n",
    "                filename = str(m) + 'musk' + '_' + ext +'.jpg'\n",
    "                print(filename)\n",
    "                \n",
    "                # 保存圖片\n",
    "                urllib.request.urlretrieve(img_url, os.path.join(local_path , filename))\n",
    "                \n",
    "        except OSError:\n",
    "            print('發生OSError!')\n",
    "            print(pos)\n",
    "            break;\n",
    "            \n",
    "driver.close()"
   ]
  }
 ],
 "metadata": {
  "kernelspec": {
   "display_name": "Python 3",
   "language": "python",
   "name": "python3"
  },
  "language_info": {
   "codemirror_mode": {
    "name": "ipython",
    "version": 3
   },
   "file_extension": ".py",
   "mimetype": "text/x-python",
   "name": "python",
   "nbconvert_exporter": "python",
   "pygments_lexer": "ipython3",
   "version": "3.8.5"
  }
 },
 "nbformat": 4,
 "nbformat_minor": 4
}
