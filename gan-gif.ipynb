{
 "cells": [
  {
   "cell_type": "code",
   "execution_count": 6,
   "metadata": {},
   "outputs": [],
   "source": [
    "import imageio\n",
    "import os\n",
    "filelist=os.listdir(r'C:\\img\\gif-img\\fanbing1\\sourse_rgb')\n",
    "filelist.sort(key= lambda x:int(x.split('.jpg')[0].split('epoch')[1]))\n",
    "\n",
    "giflist=[]\n",
    "for i in filelist:\n",
    "    giflist.append(imageio.imread(r'C:\\img\\gif-img\\fanbing1\\sourse_rgb\\{}'.format(i)))\n",
    "imageio.mimsave(r'C:\\img\\gif-img\\fanbing1\\gif-fanbing1_fps5.gif', giflist,fps=5)"
   ]
  },
  {
   "cell_type": "code",
   "execution_count": 3,
   "metadata": {},
   "outputs": [
    {
     "data": {
      "text/plain": [
       "['output_epoch0.jpg',\n",
       " 'output_epoch2.jpg',\n",
       " 'output_epoch5.jpg',\n",
       " 'output_epoch9.jpg',\n",
       " 'output_epoch19.jpg',\n",
       " 'output_epoch29.jpg',\n",
       " 'output_epoch39.jpg',\n",
       " 'output_epoch49.jpg',\n",
       " 'output_epoch59.jpg',\n",
       " 'output_epoch69.jpg',\n",
       " 'output_epoch79.jpg',\n",
       " 'output_epoch89.jpg',\n",
       " 'output_epoch99.jpg',\n",
       " 'output_epoch109.jpg',\n",
       " 'output_epoch119.jpg',\n",
       " 'output_epoch129.jpg',\n",
       " 'output_epoch139.jpg',\n",
       " 'output_epoch149.jpg',\n",
       " 'output_epoch159.jpg',\n",
       " 'output_epoch169.jpg',\n",
       " 'output_epoch179.jpg',\n",
       " 'output_epoch189.jpg',\n",
       " 'output_epoch199.jpg',\n",
       " 'output_epoch209.jpg',\n",
       " 'output_epoch219.jpg',\n",
       " 'output_epoch229.jpg',\n",
       " 'output_epoch239.jpg',\n",
       " 'output_epoch249.jpg',\n",
       " 'output_epoch259.jpg',\n",
       " 'output_epoch269.jpg',\n",
       " 'output_epoch279.jpg',\n",
       " 'output_epoch289.jpg',\n",
       " 'output_epoch299.jpg',\n",
       " 'output_epoch309.jpg',\n",
       " 'output_epoch319.jpg',\n",
       " 'output_epoch329.jpg',\n",
       " 'output_epoch339.jpg',\n",
       " 'output_epoch349.jpg',\n",
       " 'output_epoch359.jpg',\n",
       " 'output_epoch369.jpg',\n",
       " 'output_epoch379.jpg',\n",
       " 'output_epoch389.jpg',\n",
       " 'output_epoch399.jpg',\n",
       " 'output_epoch409.jpg',\n",
       " 'output_epoch419.jpg',\n",
       " 'output_epoch429.jpg',\n",
       " 'output_epoch439.jpg',\n",
       " 'output_epoch449.jpg',\n",
       " 'output_epoch459.jpg',\n",
       " 'output_epoch469.jpg',\n",
       " 'output_epoch479.jpg',\n",
       " 'output_epoch489.jpg',\n",
       " 'output_epoch499.jpg',\n",
       " 'output_epoch509.jpg',\n",
       " 'output_epoch519.jpg',\n",
       " 'output_epoch529.jpg',\n",
       " 'output_epoch539.jpg',\n",
       " 'output_epoch549.jpg',\n",
       " 'output_epoch559.jpg',\n",
       " 'output_epoch569.jpg',\n",
       " 'output_epoch579.jpg',\n",
       " 'output_epoch589.jpg',\n",
       " 'output_epoch599.jpg']"
      ]
     },
     "execution_count": 3,
     "metadata": {},
     "output_type": "execute_result"
    }
   ],
   "source": [
    "filelist"
   ]
  },
  {
   "cell_type": "code",
   "execution_count": 12,
   "metadata": {},
   "outputs": [],
   "source": []
  },
  {
   "cell_type": "code",
   "execution_count": 13,
   "metadata": {},
   "outputs": [
    {
     "data": {
      "text/plain": [
       "['output_epoch4.jpg',\n",
       " 'output_epoch9.jpg',\n",
       " 'output_epoch14.jpg',\n",
       " 'output_epoch19.jpg',\n",
       " 'output_epoch24.jpg',\n",
       " 'output_epoch29.jpg',\n",
       " 'output_epoch34.jpg',\n",
       " 'output_epoch39.jpg',\n",
       " 'output_epoch44.jpg',\n",
       " 'output_epoch49.jpg',\n",
       " 'output_epoch54.jpg',\n",
       " 'output_epoch59.jpg',\n",
       " 'output_epoch64.jpg',\n",
       " 'output_epoch69.jpg',\n",
       " 'output_epoch74.jpg',\n",
       " 'output_epoch79.jpg',\n",
       " 'output_epoch84.jpg',\n",
       " 'output_epoch89.jpg',\n",
       " 'output_epoch94.jpg',\n",
       " 'output_epoch99.jpg',\n",
       " 'output_epoch104.jpg',\n",
       " 'output_epoch109.jpg',\n",
       " 'output_epoch114.jpg',\n",
       " 'output_epoch119.jpg',\n",
       " 'output_epoch124.jpg',\n",
       " 'output_epoch129.jpg',\n",
       " 'output_epoch134.jpg',\n",
       " 'output_epoch139.jpg',\n",
       " 'output_epoch144.jpg',\n",
       " 'output_epoch149.jpg',\n",
       " 'output_epoch154.jpg',\n",
       " 'output_epoch159.jpg',\n",
       " 'output_epoch164.jpg',\n",
       " 'output_epoch169.jpg',\n",
       " 'output_epoch174.jpg',\n",
       " 'output_epoch179.jpg',\n",
       " 'output_epoch184.jpg',\n",
       " 'output_epoch189.jpg',\n",
       " 'output_epoch194.jpg',\n",
       " 'output_epoch199.jpg']"
      ]
     },
     "execution_count": 13,
     "metadata": {},
     "output_type": "execute_result"
    }
   ],
   "source": [
    "filelist"
   ]
  },
  {
   "cell_type": "code",
   "execution_count": null,
   "metadata": {},
   "outputs": [],
   "source": []
  }
 ],
 "metadata": {
  "kernelspec": {
   "display_name": "Python 3",
   "language": "python",
   "name": "python3"
  },
  "language_info": {
   "codemirror_mode": {
    "name": "ipython",
    "version": 3
   },
   "file_extension": ".py",
   "mimetype": "text/x-python",
   "name": "python",
   "nbconvert_exporter": "python",
   "pygments_lexer": "ipython3",
   "version": "3.8.5"
  }
 },
 "nbformat": 4,
 "nbformat_minor": 2
}
