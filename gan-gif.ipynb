{
 "cells": [
  {
   "cell_type": "code",
   "execution_count": 10,
   "metadata": {},
   "outputs": [],
   "source": [
    "import imageio\n",
    "import os\n",
    "filelist=os.listdir(r'D:\\img\\gif_file\\pre_img')\n",
    "filelist.sort(key= lambda x:int(x.split('.jpg')[0].split('epoch')[1]))\n",
    "\n",
    "giflist=[]\n",
    "for i in filelist:\n",
    "    giflist.append(imageio.imread(r'D:\\img\\gif_file\\pre_img\\{}'.format(i)))"
   ]
  },
  {
   "cell_type": "code",
   "execution_count": 11,
   "metadata": {},
   "outputs": [],
   "source": [
    "imageio.mimsave(r'D:\\img\\gif_file\\gif-pinmura.gif', giflist,fps=1)"
   ]
  },
  {
   "cell_type": "code",
   "execution_count": 12,
   "metadata": {},
   "outputs": [],
   "source": []
  },
  {
   "cell_type": "code",
   "execution_count": 13,
   "metadata": {},
   "outputs": [
    {
     "data": {
      "text/plain": [
       "['output_epoch4.jpg',\n",
       " 'output_epoch9.jpg',\n",
       " 'output_epoch14.jpg',\n",
       " 'output_epoch19.jpg',\n",
       " 'output_epoch24.jpg',\n",
       " 'output_epoch29.jpg',\n",
       " 'output_epoch34.jpg',\n",
       " 'output_epoch39.jpg',\n",
       " 'output_epoch44.jpg',\n",
       " 'output_epoch49.jpg',\n",
       " 'output_epoch54.jpg',\n",
       " 'output_epoch59.jpg',\n",
       " 'output_epoch64.jpg',\n",
       " 'output_epoch69.jpg',\n",
       " 'output_epoch74.jpg',\n",
       " 'output_epoch79.jpg',\n",
       " 'output_epoch84.jpg',\n",
       " 'output_epoch89.jpg',\n",
       " 'output_epoch94.jpg',\n",
       " 'output_epoch99.jpg',\n",
       " 'output_epoch104.jpg',\n",
       " 'output_epoch109.jpg',\n",
       " 'output_epoch114.jpg',\n",
       " 'output_epoch119.jpg',\n",
       " 'output_epoch124.jpg',\n",
       " 'output_epoch129.jpg',\n",
       " 'output_epoch134.jpg',\n",
       " 'output_epoch139.jpg',\n",
       " 'output_epoch144.jpg',\n",
       " 'output_epoch149.jpg',\n",
       " 'output_epoch154.jpg',\n",
       " 'output_epoch159.jpg',\n",
       " 'output_epoch164.jpg',\n",
       " 'output_epoch169.jpg',\n",
       " 'output_epoch174.jpg',\n",
       " 'output_epoch179.jpg',\n",
       " 'output_epoch184.jpg',\n",
       " 'output_epoch189.jpg',\n",
       " 'output_epoch194.jpg',\n",
       " 'output_epoch199.jpg']"
      ]
     },
     "execution_count": 13,
     "metadata": {},
     "output_type": "execute_result"
    }
   ],
   "source": [
    "filelist"
   ]
  },
  {
   "cell_type": "code",
   "execution_count": null,
   "metadata": {},
   "outputs": [],
   "source": []
  }
 ],
 "metadata": {
  "kernelspec": {
   "display_name": "Python 3",
   "language": "python",
   "name": "python3"
  },
  "language_info": {
   "codemirror_mode": {
    "name": "ipython",
    "version": 3
   },
   "file_extension": ".py",
   "mimetype": "text/x-python",
   "name": "python",
   "nbconvert_exporter": "python",
   "pygments_lexer": "ipython3",
   "version": "3.7.1"
  }
 },
 "nbformat": 4,
 "nbformat_minor": 2
}
